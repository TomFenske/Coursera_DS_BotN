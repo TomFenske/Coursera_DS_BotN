{
 "cells": [
  {
   "cell_type": "markdown",
   "metadata": {},
   "source": [
    "# Battle of the neigbourhoods"
   ]
  },
  {
   "cell_type": "markdown",
   "metadata": {},
   "source": [
    "by Tom Fenske"
   ]
  },
  {
   "cell_type": "markdown",
   "metadata": {},
   "source": [
    "### 1. Importing libraries and datasets"
   ]
  },
  {
   "cell_type": "code",
   "execution_count": 106,
   "metadata": {},
   "outputs": [
    {
     "name": "stdout",
     "output_type": "stream",
     "text": [
      "Libraries succesfully imported\n"
     ]
    }
   ],
   "source": [
    "#Import necessary libraries\n",
    "import pandas as pd\n",
    "import folium\n",
    "import re\n",
    "print('Libraries succesfully imported')"
   ]
  },
  {
   "cell_type": "code",
   "execution_count": 107,
   "metadata": {},
   "outputs": [],
   "source": [
    "#Defining the url's from which the names and coordinates of stations are read\n",
    "\n",
    "url_metro='https://de.m.wikipedia.org/wiki/Liste_der_Stationen_der_S-Bahn_Berlin'\n",
    "url_subway='https://de.m.wikipedia.org/wiki/Liste_der_Berliner_U-Bahnh%C3%B6fe'\n"
   ]
  },
  {
   "cell_type": "code",
   "execution_count": 108,
   "metadata": {},
   "outputs": [
    {
     "name": "stdout",
     "output_type": "stream",
     "text": [
      "Done\n"
     ]
    }
   ],
   "source": [
    "#Reading the table from the url into a pandas dataframe\n",
    "df_metro=pd.read_html(url_metro)[0]\n",
    "print('Done')"
   ]
  },
  {
   "cell_type": "code",
   "execution_count": 109,
   "metadata": {},
   "outputs": [
    {
     "data": {
      "text/html": [
       "<div>\n",
       "<style scoped>\n",
       "    .dataframe tbody tr th:only-of-type {\n",
       "        vertical-align: middle;\n",
       "    }\n",
       "\n",
       "    .dataframe tbody tr th {\n",
       "        vertical-align: top;\n",
       "    }\n",
       "\n",
       "    .dataframe thead th {\n",
       "        text-align: right;\n",
       "    }\n",
       "</style>\n",
       "<table border=\"1\" class=\"dataframe\">\n",
       "  <thead>\n",
       "    <tr style=\"text-align: right;\">\n",
       "      <th></th>\n",
       "      <th>S-Bahnhof(ehem. Name)</th>\n",
       "      <th>Lage</th>\n",
       "    </tr>\n",
       "  </thead>\n",
       "  <tbody>\n",
       "    <tr>\n",
       "      <th>0</th>\n",
       "      <td>Adlershof(bis 1935 Adlershof=Alt-Glienicke)</td>\n",
       "      <td>Adlershof(Treptow-Köpenick)52° 26′ 5″ N, 13° 3...</td>\n",
       "    </tr>\n",
       "    <tr>\n",
       "      <th>1</th>\n",
       "      <td>Ahrensfelde</td>\n",
       "      <td>Marzahn(Marzahn-Hellersdorf)52° 34′ 18″ N, 13°...</td>\n",
       "    </tr>\n",
       "    <tr>\n",
       "      <th>2</th>\n",
       "      <td>Albrechtshof</td>\n",
       "      <td>Staaken(Spandau)52° 32′ 58″ N, 13° 7′ 42″ O</td>\n",
       "    </tr>\n",
       "    <tr>\n",
       "      <th>3</th>\n",
       "      <td>Alexanderplatz</td>\n",
       "      <td>Mitte(Mitte)52° 31′ 17″ N, 13° 24′ 43″ O</td>\n",
       "    </tr>\n",
       "    <tr>\n",
       "      <th>4</th>\n",
       "      <td>Alt-Reinickendorf(bis 1994 Reinickendorf)</td>\n",
       "      <td>Reinickendorf(Reinickendorf)52° 34′ 40″ N, 13°...</td>\n",
       "    </tr>\n",
       "  </tbody>\n",
       "</table>\n",
       "</div>"
      ],
      "text/plain": [
       "                         S-Bahnhof(ehem. Name)  \\\n",
       "0  Adlershof(bis 1935 Adlershof=Alt-Glienicke)   \n",
       "1                                  Ahrensfelde   \n",
       "2                                 Albrechtshof   \n",
       "3                               Alexanderplatz   \n",
       "4    Alt-Reinickendorf(bis 1994 Reinickendorf)   \n",
       "\n",
       "                                                Lage  \n",
       "0  Adlershof(Treptow-Köpenick)52° 26′ 5″ N, 13° 3...  \n",
       "1  Marzahn(Marzahn-Hellersdorf)52° 34′ 18″ N, 13°...  \n",
       "2        Staaken(Spandau)52° 32′ 58″ N, 13° 7′ 42″ O  \n",
       "3           Mitte(Mitte)52° 31′ 17″ N, 13° 24′ 43″ O  \n",
       "4  Reinickendorf(Reinickendorf)52° 34′ 40″ N, 13°...  "
      ]
     },
     "execution_count": 109,
     "metadata": {},
     "output_type": "execute_result"
    }
   ],
   "source": [
    "#Dropping columns which we do not need\n",
    "df_metro = df_metro.drop(['Strecke', 'Linie(n)','Aufnahme', 'Einstellung','Bemerkungen', 'Unnamed: 6', 'Unnamed: 7','Bild'], axis=1)\n",
    "df_metro.head()"
   ]
  },
  {
   "cell_type": "code",
   "execution_count": 110,
   "metadata": {},
   "outputs": [
    {
     "data": {
      "text/html": [
       "<div>\n",
       "<style scoped>\n",
       "    .dataframe tbody tr th:only-of-type {\n",
       "        vertical-align: middle;\n",
       "    }\n",
       "\n",
       "    .dataframe tbody tr th {\n",
       "        vertical-align: top;\n",
       "    }\n",
       "\n",
       "    .dataframe thead th {\n",
       "        text-align: right;\n",
       "    }\n",
       "</style>\n",
       "<table border=\"1\" class=\"dataframe\">\n",
       "  <thead>\n",
       "    <tr style=\"text-align: right;\">\n",
       "      <th></th>\n",
       "      <th>S-Bahnhof(ehem. Name)</th>\n",
       "      <th>Lage</th>\n",
       "      <th>Neighbourhood</th>\n",
       "      <th>Coordinates</th>\n",
       "    </tr>\n",
       "  </thead>\n",
       "  <tbody>\n",
       "    <tr>\n",
       "      <th>0</th>\n",
       "      <td>Adlershof(bis 1935 Adlershof=Alt-Glienicke)</td>\n",
       "      <td>Adlershof(Treptow-Köpenick)52° 26′ 5″ N, 13° 3...</td>\n",
       "      <td>Adlershof</td>\n",
       "      <td>52° 26′ 5″ N, 13° 32′ 29″ O</td>\n",
       "    </tr>\n",
       "    <tr>\n",
       "      <th>1</th>\n",
       "      <td>Ahrensfelde</td>\n",
       "      <td>Marzahn(Marzahn-Hellersdorf)52° 34′ 18″ N, 13°...</td>\n",
       "      <td>Marzahn</td>\n",
       "      <td>52° 34′ 18″ N, 13° 33′ 54″ O</td>\n",
       "    </tr>\n",
       "    <tr>\n",
       "      <th>2</th>\n",
       "      <td>Albrechtshof</td>\n",
       "      <td>Staaken(Spandau)52° 32′ 58″ N, 13° 7′ 42″ O</td>\n",
       "      <td>Staaken</td>\n",
       "      <td>52° 32′ 58″ N, 13° 7′ 42″ O</td>\n",
       "    </tr>\n",
       "    <tr>\n",
       "      <th>3</th>\n",
       "      <td>Alexanderplatz</td>\n",
       "      <td>Mitte(Mitte)52° 31′ 17″ N, 13° 24′ 43″ O</td>\n",
       "      <td>Mitte</td>\n",
       "      <td>52° 31′ 17″ N, 13° 24′ 43″ O</td>\n",
       "    </tr>\n",
       "    <tr>\n",
       "      <th>4</th>\n",
       "      <td>Alt-Reinickendorf(bis 1994 Reinickendorf)</td>\n",
       "      <td>Reinickendorf(Reinickendorf)52° 34′ 40″ N, 13°...</td>\n",
       "      <td>Reinickendorf</td>\n",
       "      <td>52° 34′ 40″ N, 13° 21′ 2″ O</td>\n",
       "    </tr>\n",
       "  </tbody>\n",
       "</table>\n",
       "</div>"
      ],
      "text/plain": [
       "                         S-Bahnhof(ehem. Name)  \\\n",
       "0  Adlershof(bis 1935 Adlershof=Alt-Glienicke)   \n",
       "1                                  Ahrensfelde   \n",
       "2                                 Albrechtshof   \n",
       "3                               Alexanderplatz   \n",
       "4    Alt-Reinickendorf(bis 1994 Reinickendorf)   \n",
       "\n",
       "                                                Lage  Neighbourhood  \\\n",
       "0  Adlershof(Treptow-Köpenick)52° 26′ 5″ N, 13° 3...      Adlershof   \n",
       "1  Marzahn(Marzahn-Hellersdorf)52° 34′ 18″ N, 13°...        Marzahn   \n",
       "2        Staaken(Spandau)52° 32′ 58″ N, 13° 7′ 42″ O        Staaken   \n",
       "3           Mitte(Mitte)52° 31′ 17″ N, 13° 24′ 43″ O          Mitte   \n",
       "4  Reinickendorf(Reinickendorf)52° 34′ 40″ N, 13°...  Reinickendorf   \n",
       "\n",
       "                    Coordinates  \n",
       "0   52° 26′ 5″ N, 13° 32′ 29″ O  \n",
       "1  52° 34′ 18″ N, 13° 33′ 54″ O  \n",
       "2   52° 32′ 58″ N, 13° 7′ 42″ O  \n",
       "3  52° 31′ 17″ N, 13° 24′ 43″ O  \n",
       "4   52° 34′ 40″ N, 13° 21′ 2″ O  "
      ]
     },
     "execution_count": 110,
     "metadata": {},
     "output_type": "execute_result"
    }
   ],
   "source": [
    "# Extracting the neighbourhoods and the Coordinates from the \"Lage\" column\n",
    "df_metro['Neighbourhood']=df_metro['Lage'].str.extract('(\\w*)', expand=True)\n",
    "df_metro['Coordinates'] = df_metro['Lage'].str.extract('(\\d.*)', expand=True)\n",
    "df_metro.head()"
   ]
  },
  {
   "cell_type": "code",
   "execution_count": 111,
   "metadata": {},
   "outputs": [
    {
     "data": {
      "text/html": [
       "<div>\n",
       "<style scoped>\n",
       "    .dataframe tbody tr th:only-of-type {\n",
       "        vertical-align: middle;\n",
       "    }\n",
       "\n",
       "    .dataframe tbody tr th {\n",
       "        vertical-align: top;\n",
       "    }\n",
       "\n",
       "    .dataframe thead th {\n",
       "        text-align: right;\n",
       "    }\n",
       "</style>\n",
       "<table border=\"1\" class=\"dataframe\">\n",
       "  <thead>\n",
       "    <tr style=\"text-align: right;\">\n",
       "      <th></th>\n",
       "      <th>S-Bahnhof(ehem. Name)</th>\n",
       "      <th>Lage</th>\n",
       "      <th>Neighbourhood</th>\n",
       "      <th>Coordinates</th>\n",
       "    </tr>\n",
       "  </thead>\n",
       "  <tbody>\n",
       "    <tr>\n",
       "      <th>0</th>\n",
       "      <td>Adlershof(bis 1935 Adlershof=Alt-Glienicke)</td>\n",
       "      <td>Adlershof(Treptow-Köpenick)52° 26′ 5″ N, 13° 3...</td>\n",
       "      <td>Adlershof</td>\n",
       "      <td>52° 26' 5\" N,13° 32' 29\" O</td>\n",
       "    </tr>\n",
       "    <tr>\n",
       "      <th>1</th>\n",
       "      <td>Ahrensfelde</td>\n",
       "      <td>Marzahn(Marzahn-Hellersdorf)52° 34′ 18″ N, 13°...</td>\n",
       "      <td>Marzahn</td>\n",
       "      <td>52° 34' 18\" N,13° 33' 54\" O</td>\n",
       "    </tr>\n",
       "    <tr>\n",
       "      <th>2</th>\n",
       "      <td>Albrechtshof</td>\n",
       "      <td>Staaken(Spandau)52° 32′ 58″ N, 13° 7′ 42″ O</td>\n",
       "      <td>Staaken</td>\n",
       "      <td>52° 32' 58\" N,13° 7' 42\" O</td>\n",
       "    </tr>\n",
       "    <tr>\n",
       "      <th>3</th>\n",
       "      <td>Alexanderplatz</td>\n",
       "      <td>Mitte(Mitte)52° 31′ 17″ N, 13° 24′ 43″ O</td>\n",
       "      <td>Mitte</td>\n",
       "      <td>52° 31' 17\" N,13° 24' 43\" O</td>\n",
       "    </tr>\n",
       "    <tr>\n",
       "      <th>4</th>\n",
       "      <td>Alt-Reinickendorf(bis 1994 Reinickendorf)</td>\n",
       "      <td>Reinickendorf(Reinickendorf)52° 34′ 40″ N, 13°...</td>\n",
       "      <td>Reinickendorf</td>\n",
       "      <td>52° 34' 40\" N,13° 21' 2\" O</td>\n",
       "    </tr>\n",
       "  </tbody>\n",
       "</table>\n",
       "</div>"
      ],
      "text/plain": [
       "                         S-Bahnhof(ehem. Name)  \\\n",
       "0  Adlershof(bis 1935 Adlershof=Alt-Glienicke)   \n",
       "1                                  Ahrensfelde   \n",
       "2                                 Albrechtshof   \n",
       "3                               Alexanderplatz   \n",
       "4    Alt-Reinickendorf(bis 1994 Reinickendorf)   \n",
       "\n",
       "                                                Lage  Neighbourhood  \\\n",
       "0  Adlershof(Treptow-Köpenick)52° 26′ 5″ N, 13° 3...      Adlershof   \n",
       "1  Marzahn(Marzahn-Hellersdorf)52° 34′ 18″ N, 13°...        Marzahn   \n",
       "2        Staaken(Spandau)52° 32′ 58″ N, 13° 7′ 42″ O        Staaken   \n",
       "3           Mitte(Mitte)52° 31′ 17″ N, 13° 24′ 43″ O          Mitte   \n",
       "4  Reinickendorf(Reinickendorf)52° 34′ 40″ N, 13°...  Reinickendorf   \n",
       "\n",
       "                   Coordinates  \n",
       "0   52° 26' 5\" N,13° 32' 29\" O  \n",
       "1  52° 34' 18\" N,13° 33' 54\" O  \n",
       "2   52° 32' 58\" N,13° 7' 42\" O  \n",
       "3  52° 31' 17\" N,13° 24' 43\" O  \n",
       "4   52° 34' 40\" N,13° 21' 2\" O  "
      ]
     },
     "execution_count": 111,
     "metadata": {},
     "output_type": "execute_result"
    }
   ],
   "source": [
    "#Cleaning the Coordinates in order to express them as float later on\n",
    "df_metro['Coordinates']=df_metro['Coordinates'].str.replace(' ', '')\n",
    "df_metro['Coordinates']=df_metro['Coordinates'].str.replace('′', '\\'')\n",
    "df_metro['Coordinates']=df_metro['Coordinates'].str.replace('″', '\\\"')\n",
    "df_metro.head()"
   ]
  },
  {
   "cell_type": "code",
   "execution_count": 112,
   "metadata": {},
   "outputs": [
    {
     "data": {
      "text/html": [
       "<div>\n",
       "<style scoped>\n",
       "    .dataframe tbody tr th:only-of-type {\n",
       "        vertical-align: middle;\n",
       "    }\n",
       "\n",
       "    .dataframe tbody tr th {\n",
       "        vertical-align: top;\n",
       "    }\n",
       "\n",
       "    .dataframe thead th {\n",
       "        text-align: right;\n",
       "    }\n",
       "</style>\n",
       "<table border=\"1\" class=\"dataframe\">\n",
       "  <thead>\n",
       "    <tr style=\"text-align: right;\">\n",
       "      <th></th>\n",
       "      <th>S-Bahnhof(ehem. Name)</th>\n",
       "      <th>Lage</th>\n",
       "      <th>Neighbourhood</th>\n",
       "      <th>Coordinates</th>\n",
       "      <th>Longitude</th>\n",
       "      <th>Latitude</th>\n",
       "    </tr>\n",
       "  </thead>\n",
       "  <tbody>\n",
       "    <tr>\n",
       "      <th>0</th>\n",
       "      <td>Adlershof(bis 1935 Adlershof=Alt-Glienicke)</td>\n",
       "      <td>Adlershof(Treptow-Köpenick)52° 26′ 5″ N, 13° 3...</td>\n",
       "      <td>Adlershof</td>\n",
       "      <td>52° 26' 5\" N,13° 32' 29\" O</td>\n",
       "      <td>52° 26' 5\" N</td>\n",
       "      <td>13° 32' 29\" O</td>\n",
       "    </tr>\n",
       "    <tr>\n",
       "      <th>1</th>\n",
       "      <td>Ahrensfelde</td>\n",
       "      <td>Marzahn(Marzahn-Hellersdorf)52° 34′ 18″ N, 13°...</td>\n",
       "      <td>Marzahn</td>\n",
       "      <td>52° 34' 18\" N,13° 33' 54\" O</td>\n",
       "      <td>52° 34' 18\" N</td>\n",
       "      <td>13° 33' 54\" O</td>\n",
       "    </tr>\n",
       "    <tr>\n",
       "      <th>2</th>\n",
       "      <td>Albrechtshof</td>\n",
       "      <td>Staaken(Spandau)52° 32′ 58″ N, 13° 7′ 42″ O</td>\n",
       "      <td>Staaken</td>\n",
       "      <td>52° 32' 58\" N,13° 7' 42\" O</td>\n",
       "      <td>52° 32' 58\" N</td>\n",
       "      <td>13° 7' 42\" O</td>\n",
       "    </tr>\n",
       "    <tr>\n",
       "      <th>3</th>\n",
       "      <td>Alexanderplatz</td>\n",
       "      <td>Mitte(Mitte)52° 31′ 17″ N, 13° 24′ 43″ O</td>\n",
       "      <td>Mitte</td>\n",
       "      <td>52° 31' 17\" N,13° 24' 43\" O</td>\n",
       "      <td>52° 31' 17\" N</td>\n",
       "      <td>13° 24' 43\" O</td>\n",
       "    </tr>\n",
       "    <tr>\n",
       "      <th>4</th>\n",
       "      <td>Alt-Reinickendorf(bis 1994 Reinickendorf)</td>\n",
       "      <td>Reinickendorf(Reinickendorf)52° 34′ 40″ N, 13°...</td>\n",
       "      <td>Reinickendorf</td>\n",
       "      <td>52° 34' 40\" N,13° 21' 2\" O</td>\n",
       "      <td>52° 34' 40\" N</td>\n",
       "      <td>13° 21' 2\" O</td>\n",
       "    </tr>\n",
       "  </tbody>\n",
       "</table>\n",
       "</div>"
      ],
      "text/plain": [
       "                         S-Bahnhof(ehem. Name)  \\\n",
       "0  Adlershof(bis 1935 Adlershof=Alt-Glienicke)   \n",
       "1                                  Ahrensfelde   \n",
       "2                                 Albrechtshof   \n",
       "3                               Alexanderplatz   \n",
       "4    Alt-Reinickendorf(bis 1994 Reinickendorf)   \n",
       "\n",
       "                                                Lage  Neighbourhood  \\\n",
       "0  Adlershof(Treptow-Köpenick)52° 26′ 5″ N, 13° 3...      Adlershof   \n",
       "1  Marzahn(Marzahn-Hellersdorf)52° 34′ 18″ N, 13°...        Marzahn   \n",
       "2        Staaken(Spandau)52° 32′ 58″ N, 13° 7′ 42″ O        Staaken   \n",
       "3           Mitte(Mitte)52° 31′ 17″ N, 13° 24′ 43″ O          Mitte   \n",
       "4  Reinickendorf(Reinickendorf)52° 34′ 40″ N, 13°...  Reinickendorf   \n",
       "\n",
       "                   Coordinates      Longitude       Latitude  \n",
       "0   52° 26' 5\" N,13° 32' 29\" O   52° 26' 5\" N  13° 32' 29\" O  \n",
       "1  52° 34' 18\" N,13° 33' 54\" O  52° 34' 18\" N  13° 33' 54\" O  \n",
       "2   52° 32' 58\" N,13° 7' 42\" O  52° 32' 58\" N   13° 7' 42\" O  \n",
       "3  52° 31' 17\" N,13° 24' 43\" O  52° 31' 17\" N  13° 24' 43\" O  \n",
       "4   52° 34' 40\" N,13° 21' 2\" O  52° 34' 40\" N   13° 21' 2\" O  "
      ]
     },
     "execution_count": 112,
     "metadata": {},
     "output_type": "execute_result"
    }
   ],
   "source": [
    "#Splitting Coordinates into Latitude and Longitude\n",
    "df_metro[['Longitude','Latitude']]=df_metro['Coordinates'].str.split(\",\",expand=True)\n",
    "df_metro.head()"
   ]
  },
  {
   "cell_type": "code",
   "execution_count": 117,
   "metadata": {},
   "outputs": [
    {
     "data": {
      "text/plain": [
       "52.54944444444444"
      ]
     },
     "execution_count": 117,
     "metadata": {},
     "output_type": "execute_result"
    }
   ],
   "source": [
    "s = \"\"\"0°51'56.29\"S\"\"\"\n",
    "\n",
    "def dms2dd(s):\n",
    "    # example: s = \"\"\"0°51'56.29\"S\"\"\"\n",
    "    degrees, minutes, seconds, direction = re.split('[°\\'\"]+', s)\n",
    "    dd = float(degrees) + float(minutes)/60 + float(seconds)/(60*60);\n",
    "    if direction in ('S','W'):\n",
    "        dd*= -1\n",
    "    return dd\n",
    "\n",
    "dms2dd(df_metro['Longitude'][2])\n",
    "#df_metro['Longitude'].apply(dms2dd) <--Longitude have to have only lon values (no nan) wo work - clean the rows first!"
   ]
  },
  {
   "cell_type": "code",
   "execution_count": null,
   "metadata": {},
   "outputs": [],
   "source": []
  },
  {
   "cell_type": "code",
   "execution_count": null,
   "metadata": {},
   "outputs": [],
   "source": []
  },
  {
   "cell_type": "code",
   "execution_count": null,
   "metadata": {},
   "outputs": [],
   "source": []
  },
  {
   "cell_type": "code",
   "execution_count": null,
   "metadata": {},
   "outputs": [],
   "source": []
  }
 ],
 "metadata": {
  "kernelspec": {
   "display_name": "Python 3",
   "language": "python",
   "name": "python3"
  },
  "language_info": {
   "codemirror_mode": {
    "name": "ipython",
    "version": 3
   },
   "file_extension": ".py",
   "mimetype": "text/x-python",
   "name": "python",
   "nbconvert_exporter": "python",
   "pygments_lexer": "ipython3",
   "version": "3.7.6"
  }
 },
 "nbformat": 4,
 "nbformat_minor": 4
}
